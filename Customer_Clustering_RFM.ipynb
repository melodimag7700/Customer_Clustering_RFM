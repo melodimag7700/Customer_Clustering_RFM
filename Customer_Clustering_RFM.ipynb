{
  "nbformat": 4,
  "nbformat_minor": 0,
  "metadata": {
    "colab": {
      "provenance": []
    },
    "kernelspec": {
      "name": "python3",
      "display_name": "Python 3"
    },
    "language_info": {
      "name": "python"
    }
  },
  "cells": [
    {
      "cell_type": "code",
      "source": [
        "import pandas as pd\n",
        "import numpy as np\n",
        "import matplotlib.pyplot as plt\n",
        "# داده را از فایل اکسل می‌خوانیم\n",
        "# Load data from Excel file\n",
        "df = pd.read_excel('/content/sample-orders.xlsx')"
      ],
      "metadata": {
        "id": "0lI4ZCJ0yyNU"
      },
      "execution_count": 3,
      "outputs": []
    },
    {
      "cell_type": "code",
      "source": [
        "# حذف فاصله‌ی اضافی از نام ستون‌ها\n",
        "# Remove extra spaces from column names\n",
        "df.columns = df.columns.str.strip()\n",
        "\n",
        "# تبدیل ستون تاریخ سفارش به نوع داده datetime\n",
        "# Convert 'order_date' column to datetime\n",
        "df['order_date'] = pd.to_datetime(df['order_date'])\n"
      ],
      "metadata": {
        "id": "0A_z3xYXzDpM"
      },
      "execution_count": 4,
      "outputs": []
    },
    {
      "cell_type": "code",
      "source": [
        "# تعیین مرجع زمانی: یک روز بعد از بیشترین تاریخ سفارش برای محاسبه Recency\n",
        "# Set reference date: one day after the maximum order date to calculate Recency\n",
        "reference_date = df['order_date'].max() + pd.Timedelta(days=1)\n",
        "\n",
        "# محاسبه RFM برای هر مشتری\n",
        "# Calculate RFM metrics for each customer\n",
        "rfm = df.groupby('customer').agg({\n",
        "    'order_date': lambda x: (reference_date - x.max()).days,    # Recency\n",
        "    'order_id': 'count',                                      # Frequency\n",
        "    \"grand_total\": 'sum'                                         # Monetary\n",
        "}).reset_index()\n",
        "rfm.columns = ['customer', 'Recency', 'Frequency', 'Monetary']\n",
        "\n",
        "# محاسبه کوانتایلهای Recency و Frequency\n",
        "# Calculate quantile cutoffs (33%, 66%) for Recency and Frequency\n",
        "recency_quartile = rfm['Recency'].quantile([0.33, 0.66]).values\n",
        "frequency_quartile = rfm['Frequency'].quantile([0.33, 0.66]).values\n"
      ],
      "metadata": {
        "id": "9At5V185y8pD"
      },
      "execution_count": 5,
      "outputs": []
    },
    {
      "cell_type": "code",
      "source": [
        "\n",
        "# تابع برای اختصاص خوشه براساس مقادیر Recency و Frequency\n",
        "# Function to assign a cluster based on Recency and Frequency values\n",
        "def assign_cluster(row):\n",
        "    # مشتری جدید: Recency کم (در یک‌سوم کمترین Recency)\n",
        "    # New customer: low Recency (lowest third)\n",
        "    if row['Recency'] <= recency_quartile[0]:\n",
        "        return 'New'\n",
        "    # مشتری کم‌فعالیت: Recency بالا (یک‌سوم بالا) یا Frequency پایین (یک‌سوم پایین)\n",
        "    # Inactive customer: high Recency (highest third) or low Frequency (lowest third)\n",
        "    elif row['Recency'] > recency_quartile[1] or row['Frequency'] <= frequency_quartile[0]:\n",
        "        return 'Inactive'\n",
        "    # مشتری ثابت: سایرین\n",
        "    # Fixed/Active customer: others\n",
        "    else:\n",
        "        return 'Fixed'\n",
        "\n",
        "# اختصاص نام خوشه به هر مشتری\n",
        "# Assign cluster name to each customer\n",
        "rfm['Cluster'] = rfm.apply(assign_cluster, axis=1)\n",
        "\n",
        "# نمایش نمونه‌ای از جدول خروجی\n",
        "# Print a sample of the output table\n",
        "print(rfm[['customer', 'Recency', 'Frequency', 'Monetary', 'Cluster']].head(10).to_markdown(index=False))"
      ],
      "metadata": {
        "colab": {
          "base_uri": "https://localhost:8080/"
        },
        "id": "BfsbdPAozNch",
        "outputId": "64369a6b-00bb-491d-d2e8-611123ee123c"
      },
      "execution_count": 6,
      "outputs": [
        {
          "output_type": "stream",
          "name": "stdout",
          "text": [
            "| customer           |   Recency |   Frequency |   Monetary | Cluster   |\n",
            "|:-------------------|----------:|------------:|-----------:|:----------|\n",
            "| Aaron Bergman      |        32 |           3 |        887 | New       |\n",
            "| Aaron Hawkins      |      3649 |           7 |       1744 | Inactive  |\n",
            "| Aaron Smayling     |       581 |           7 |       3050 | Fixed     |\n",
            "| Adam Bellavance    |       154 |           8 |       7756 | New       |\n",
            "| Adam Hart          |      3671 |          10 |       3249 | Inactive  |\n",
            "| Adam Shillingsburg |        94 |           9 |       3256 | New       |\n",
            "| Adrian Barton      |       156 |          10 |      14474 | New       |\n",
            "| Adrian Hane        |       336 |           7 |       1734 | Fixed     |\n",
            "| Adrian Shami       |      3678 |           2 |         59 | Inactive  |\n",
            "| Aimee Bixby        |       430 |           5 |        968 | Inactive  |\n"
          ]
        }
      ]
    },
    {
      "cell_type": "code",
      "source": [
        "# رسم نمودار ستونی برای نمایش تعداد مشتری در هر خوشه\n",
        "# Plot bar chart for number of customers in each cluster\n",
        "plt.figure(figsize=(6,4))\n",
        "rfm['Cluster'].value_counts().plot(kind='bar', color=['royalblue','orange','green'])\n",
        "plt.title('Customers Clustering')\n",
        "plt.ylabel('Customer Count')\n",
        "plt.xlabel('Cluster')\n",
        "plt.xticks(rotation=0)\n",
        "plt.tight_layout()\n",
        "plt.show()"
      ],
      "metadata": {
        "colab": {
          "base_uri": "https://localhost:8080/",
          "height": 407
        },
        "id": "qTneIvNDzT8w",
        "outputId": "8d22f81c-34b2-4db7-d733-b926afd774dc"
      },
      "execution_count": 7,
      "outputs": [
        {
          "output_type": "display_data",
          "data": {
            "text/plain": [
              "<Figure size 600x400 with 1 Axes>"
            ],
            "image/png": "[encoded data removed]"
          },
          "metadata": {}
        }
      ]
    }
  ]
}